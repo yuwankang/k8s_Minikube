{
 "cells": [
  {
   "cell_type": "code",
   "execution_count": null,
   "metadata": {},
   "outputs": [],
   "source": [
    "from diagrams import Cluster, Diagram, Edge\n",
    "from diagrams.k8s.compute import Pod\n",
    "from diagrams.k8s.network import Service\n",
    "from diagrams.aws.storage import S3\n",
    "from diagrams.aws.general import User  # 사용자 모양의 이미지 추가\n",
    "\n",
    "with Diagram(\"NodePort and LoadBalancer\", show=False, graph_attr={\"size\": \"20,20!\"}) as diag:\n",
    "    user = User(\"User\")  # 사용자 이미지\n",
    "\n",
    "    # JAR 파일 (Ubuntu에 위치한 JAR 파일을 나타냄)\n",
    "    jar_file = S3(\"SpringApp-0.0.1-SNAPSHOT.jar\\n(Ubuntu)\")\n",
    "\n",
    "    # Docker 이미지\n",
    "    docker_image = S3(\"Docker Image\\n(spring-app-image)\")\n",
    "\n",
    "    with Cluster(\"K8s Cluster\"):\n",
    "        # NodePort 방식\n",
    "        with Cluster(\"NodePort Deployment\"):\n",
    "            nodeport_pod1 = Pod(\"NodePort Pod 1\\n(Spring App)\")\n",
    "            nodeport_pod2 = Pod(\"NodePort Pod 2\\n(Spring App)\")\n",
    "            nodeport_pod3 = Pod(\"NodePort Pod 3\\n(Spring App)\")\n",
    "\n",
    "        nodeport_service = Service(\"NodePort Service\")\n",
    "\n",
    "        # 연결\n",
    "        user >> Edge(label=\"Request to NodePort Service\") >> nodeport_service\n",
    "        nodeport_service >> nodeport_pod1\n",
    "        nodeport_service >> nodeport_pod2\n",
    "        nodeport_service >> nodeport_pod3\n",
    "\n",
    "        # LoadBalancer 방식\n",
    "        with Cluster(\"LoadBalancer Deployment\"):\n",
    "            loadbalancer_pod1 = Pod(\"LoadBalancer Pod 1\\n(Spring App)\")\n",
    "            loadbalancer_pod2 = Pod(\"LoadBalancer Pod 2\\n(Spring App)\")\n",
    "            loadbalancer_pod3 = Pod(\"LoadBalancer Pod 3\\n(Spring App)\")\n",
    "\n",
    "        loadbalancer_service = Service(\"LoadBalancer Service\")\n",
    "\n",
    "        # 연결\n",
    "        user >> Edge(label=\"Request to LoadBalancer Service\") >> loadbalancer_service\n",
    "        loadbalancer_service >> loadbalancer_pod1\n",
    "        loadbalancer_service >> loadbalancer_pod2\n",
    "        loadbalancer_service >> loadbalancer_pod3\n",
    "\n",
    "    # JAR 파일 연결\n",
    "    jar_file >> docker_image  # JAR 파일이 Docker 이미지로 변환됨\n",
    "    docker_image >> nodeport_pod1\n",
    "    docker_image >> loadbalancer_pod1\n",
    "\n",
    "diag\n"
   ]
  }
 ],
 "metadata": {
  "language_info": {
   "name": "python"
  }
 },
 "nbformat": 4,
 "nbformat_minor": 2
}
